{
 "cells": [
  {
   "cell_type": "code",
   "execution_count": 1,
   "metadata": {},
   "outputs": [],
   "source": [
    "import numpy as np"
   ]
  },
  {
   "cell_type": "code",
   "execution_count": 2,
   "metadata": {},
   "outputs": [],
   "source": [
    "#analyze gdp per capita for given set of countries\n",
    "#find country with max and min gdp\n",
    "#find and print gdp per capita of each country\n",
    "#print gdp - mean, max, min, standard deviation and sum\n",
    "countries = np.array(['Algeria', \"Angola\", \"Argentina\", \"Bahamas\", \"Bangladesh\", \"Guinea\", \"Haiti\", \"France\", \"Liberia\", \"Zimbabwe\"])\n",
    "gpd_per_capita = np.array([2255.225482, 629.9553062, 11601.63022, 25306.82494, 27266.40545, 36152.66676, 3054.727742, 33529.83052, 3825.093781, 15428.32098])\n"
   ]
  },
  {
   "cell_type": "code",
   "execution_count": 5,
   "metadata": {},
   "outputs": [
    {
     "data": {
      "text/plain": [
       "'Guinea'"
      ]
     },
     "execution_count": 5,
     "metadata": {},
     "output_type": "execute_result"
    }
   ],
   "source": [
    "#find country with max and min gdp\n",
    "findMax = gpd_per_capita.argmax()\n",
    "country_with_max = countries[findMax]\n",
    "country_with_max"
   ]
  },
  {
   "cell_type": "code",
   "execution_count": 6,
   "metadata": {},
   "outputs": [
    {
     "data": {
      "text/plain": [
       "'Angola'"
      ]
     },
     "execution_count": 6,
     "metadata": {},
     "output_type": "execute_result"
    }
   ],
   "source": [
    "findMin = gpd_per_capita.argmin()\n",
    "country_with_min = countries[findMin]\n",
    "country_with_min"
   ]
  },
  {
   "cell_type": "code",
   "execution_count": 7,
   "metadata": {},
   "outputs": [
    {
     "name": "stdout",
     "output_type": "stream",
     "text": [
      "evaluating country Algeria\n",
      "evaluating country Angola\n",
      "evaluating country Argentina\n",
      "evaluating country Bahamas\n",
      "evaluating country Bangladesh\n",
      "evaluating country Guinea\n",
      "evaluating country Haiti\n",
      "evaluating country France\n",
      "evaluating country Liberia\n",
      "evaluating country Zimbabwe\n"
     ]
    }
   ],
   "source": [
    "#find and print gdp per capita of each country\n",
    "for country in countries:\n",
    "    print 'evaluating country {}'.format(country)"
   ]
  },
  {
   "cell_type": "code",
   "execution_count": 9,
   "metadata": {},
   "outputs": [
    {
     "name": "stdout",
     "output_type": "stream",
     "text": [
      "country Algeria per capita gdp is 2255.225482\n",
      "country Angola per capita gdp is 629.9553062\n",
      "country Argentina per capita gdp is 11601.63022\n",
      "country Bahamas per capita gdp is 25306.82494\n",
      "country Bangladesh per capita gdp is 27266.40545\n",
      "country Guinea per capita gdp is 36152.66676\n",
      "country Haiti per capita gdp is 3054.727742\n",
      "country France per capita gdp is 33529.83052\n",
      "country Liberia per capita gdp is 3825.093781\n",
      "country Zimbabwe per capita gdp is 15428.32098\n"
     ]
    }
   ],
   "source": [
    "for i in range(len(countries)):\n",
    "    country = countries[i]\n",
    "    country_gdp = gpd_per_capita[i]\n",
    "    print 'country {} per capita gdp is {}'.format(country, country_gdp)"
   ]
  },
  {
   "cell_type": "code",
   "execution_count": 10,
   "metadata": {},
   "outputs": [
    {
     "data": {
      "text/plain": [
       "36152.66676"
      ]
     },
     "execution_count": 10,
     "metadata": {},
     "output_type": "execute_result"
    }
   ],
   "source": [
    "# find max\n",
    "gpd_per_capita.max()"
   ]
  },
  {
   "cell_type": "code",
   "execution_count": 11,
   "metadata": {},
   "outputs": [
    {
     "data": {
      "text/plain": [
       "629.9553062"
      ]
     },
     "execution_count": 11,
     "metadata": {},
     "output_type": "execute_result"
    }
   ],
   "source": [
    "# find min\n",
    "gpd_per_capita.min()"
   ]
  },
  {
   "cell_type": "code",
   "execution_count": 12,
   "metadata": {},
   "outputs": [
    {
     "data": {
      "text/plain": [
       "15905.06811812"
      ]
     },
     "execution_count": 12,
     "metadata": {},
     "output_type": "execute_result"
    }
   ],
   "source": [
    "# find mean\n",
    "gpd_per_capita.mean()"
   ]
  },
  {
   "cell_type": "code",
   "execution_count": 13,
   "metadata": {},
   "outputs": [
    {
     "data": {
      "text/plain": [
       "12990.464528044953"
      ]
     },
     "execution_count": 13,
     "metadata": {},
     "output_type": "execute_result"
    }
   ],
   "source": [
    "# find standard deviation\n",
    "gpd_per_capita.std()"
   ]
  },
  {
   "cell_type": "code",
   "execution_count": 14,
   "metadata": {},
   "outputs": [
    {
     "data": {
      "text/plain": [
       "159050.6811812"
      ]
     },
     "execution_count": 14,
     "metadata": {},
     "output_type": "execute_result"
    }
   ],
   "source": [
    "#find sum\n",
    "gpd_per_capita.sum()"
   ]
  },
  {
   "cell_type": "code",
   "execution_count": null,
   "metadata": {},
   "outputs": [],
   "source": []
  }
 ],
 "metadata": {
  "kernelspec": {
   "display_name": "Python 2",
   "language": "python",
   "name": "python2"
  },
  "language_info": {
   "codemirror_mode": {
    "name": "ipython",
    "version": 2
   },
   "file_extension": ".py",
   "mimetype": "text/x-python",
   "name": "python",
   "nbconvert_exporter": "python",
   "pygments_lexer": "ipython2",
   "version": "2.7.14"
  }
 },
 "nbformat": 4,
 "nbformat_minor": 2
}
